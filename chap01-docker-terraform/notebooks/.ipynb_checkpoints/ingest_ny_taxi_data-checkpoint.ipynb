{
 "cells": [
  {
   "cell_type": "code",
   "execution_count": 1,
   "id": "5aef5cdc-599f-405a-a68f-df21f1cbed50",
   "metadata": {},
   "outputs": [],
   "source": [
    "import os\n",
    "from time import time\n",
    "import pandas as pd\n",
    "from sqlalchemy import create_engine"
   ]
  },
  {
   "cell_type": "code",
   "execution_count": null,
   "id": "80501d11-f08c-4215-a16c-a543873c6cae",
   "metadata": {},
   "outputs": [],
   "source": []
  },
  {
   "cell_type": "code",
   "execution_count": null,
   "id": "449588fd-8882-47c0-8e21-da7222df7c25",
   "metadata": {},
   "outputs": [],
   "source": [
    "# Configuration\n",
    "url = \"https://github.com/DataTalksClub/nyc-tlc-data/releases/download/green/green_tripdata_2019-10.csv.gz\"\n",
    "data_file = \"green_tripdata.csv.gz\"\n",
    "table_name = \"green_trips\"\n",
    "chunk_size = 100_000  # Nombre de lignes par batch\n",
    "\n",
    "# Téléchargement du fichier\n",
    "if not os.path.exists(data_file):\n",
    "    os.system(f\"wget {url} -O {data_file}\")\n",
    "\n",
    "# Connexion à PostgreSQL\n",
    "engine = create_engine('postgresql://root:root@db:5432/ny_taxi')\n",
    "\n",
    "# Lecture et traitement par chunks\n",
    "for i, df in enumerate(pd.read_csv(data_file, compression='gzip', chunksize=chunk_size)):\n",
    "    # Conversion des dates\n",
    "    df['lpep_pickup_datetime'] = pd.to_datetime(df['lpep_pickup_datetime'])\n",
    "    df['lpep_dropoff_datetime'] = pd.to_datetime(df['lpep_dropoff_datetime'])\n",
    "    \n",
    "    # Création de la table (seulement pour le premier df)\n",
    "    if_exists = 'replace' if i == 0 else 'append'\n",
    "    \n",
    "    # Écriture dans PostgreSQL\n",
    "    df.to_sql(\n",
    "        name=table_name,\n",
    "        con=engine,\n",
    "        if_exists=if_exists,\n",
    "        index=False\n",
    "    )\n",
    "    \n",
    "    print(f\"Chunk {i+1} traité - {len(df)} lignes importées\")\n",
    "\n",
    "print(\"Import terminé avec succès!\")"
   ]
  }
 ],
 "metadata": {
  "kernelspec": {
   "display_name": "Python 3 (ipykernel)",
   "language": "python",
   "name": "python3"
  },
  "language_info": {
   "codemirror_mode": {
    "name": "ipython",
    "version": 3
   },
   "file_extension": ".py",
   "mimetype": "text/x-python",
   "name": "python",
   "nbconvert_exporter": "python",
   "pygments_lexer": "ipython3",
   "version": "3.11.6"
  }
 },
 "nbformat": 4,
 "nbformat_minor": 5
}
